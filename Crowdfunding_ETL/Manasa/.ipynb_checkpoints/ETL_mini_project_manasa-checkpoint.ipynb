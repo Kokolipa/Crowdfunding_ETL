{
 "cells": [
  {
   "cell_type": "code",
   "execution_count": 1,
   "id": "382c4795",
   "metadata": {},
   "outputs": [],
   "source": [
    "import pandas as pd"
   ]
  },
  {
   "cell_type": "code",
   "execution_count": 2,
   "id": "b9f99909",
   "metadata": {},
   "outputs": [],
   "source": [
    "# Import dependencies\n",
    "import numpy as np\n",
    "pd.set_option('max_colwidth', 400)\n",
    "import pandas as pd "
   ]
  },
  {
   "cell_type": "markdown",
   "id": "0b03696c",
   "metadata": {},
   "source": [
    "# Extract the crowdfunding.xlsx Data"
   ]
  },
  {
   "cell_type": "code",
   "execution_count": 3,
   "id": "e7647878",
   "metadata": {},
   "outputs": [
    {
     "ename": "FileNotFoundError",
     "evalue": "[Errno 2] No such file or directory: 'Resources/crowdfunding.xlsx'",
     "output_type": "error",
     "traceback": [
      "\u001b[1;31m---------------------------------------------------------------------------\u001b[0m",
      "\u001b[1;31mFileNotFoundError\u001b[0m                         Traceback (most recent call last)",
      "Cell \u001b[1;32mIn[3], line 2\u001b[0m\n\u001b[0;32m      1\u001b[0m \u001b[38;5;66;03m# Read the data into a Pandas DataFrame\u001b[39;00m\n\u001b[1;32m----> 2\u001b[0m crowdfunding_info_df \u001b[38;5;241m=\u001b[39m \u001b[43mpd\u001b[49m\u001b[38;5;241;43m.\u001b[39;49m\u001b[43mread_excel\u001b[49m\u001b[43m(\u001b[49m\u001b[38;5;124;43m'\u001b[39;49m\u001b[38;5;124;43mResources/crowdfunding.xlsx\u001b[39;49m\u001b[38;5;124;43m'\u001b[39;49m\u001b[43m)\u001b[49m\n\u001b[0;32m      3\u001b[0m crowdfunding_info_df\u001b[38;5;241m.\u001b[39mhead()\n",
      "File \u001b[1;32m~\\AppData\\Local\\Programs\\Python\\Python311\\Lib\\site-packages\\pandas\\io\\excel\\_base.py:478\u001b[0m, in \u001b[0;36mread_excel\u001b[1;34m(io, sheet_name, header, names, index_col, usecols, dtype, engine, converters, true_values, false_values, skiprows, nrows, na_values, keep_default_na, na_filter, verbose, parse_dates, date_parser, date_format, thousands, decimal, comment, skipfooter, storage_options, dtype_backend)\u001b[0m\n\u001b[0;32m    476\u001b[0m \u001b[38;5;28;01mif\u001b[39;00m \u001b[38;5;129;01mnot\u001b[39;00m \u001b[38;5;28misinstance\u001b[39m(io, ExcelFile):\n\u001b[0;32m    477\u001b[0m     should_close \u001b[38;5;241m=\u001b[39m \u001b[38;5;28;01mTrue\u001b[39;00m\n\u001b[1;32m--> 478\u001b[0m     io \u001b[38;5;241m=\u001b[39m \u001b[43mExcelFile\u001b[49m\u001b[43m(\u001b[49m\u001b[43mio\u001b[49m\u001b[43m,\u001b[49m\u001b[43m \u001b[49m\u001b[43mstorage_options\u001b[49m\u001b[38;5;241;43m=\u001b[39;49m\u001b[43mstorage_options\u001b[49m\u001b[43m,\u001b[49m\u001b[43m \u001b[49m\u001b[43mengine\u001b[49m\u001b[38;5;241;43m=\u001b[39;49m\u001b[43mengine\u001b[49m\u001b[43m)\u001b[49m\n\u001b[0;32m    479\u001b[0m \u001b[38;5;28;01melif\u001b[39;00m engine \u001b[38;5;129;01mand\u001b[39;00m engine \u001b[38;5;241m!=\u001b[39m io\u001b[38;5;241m.\u001b[39mengine:\n\u001b[0;32m    480\u001b[0m     \u001b[38;5;28;01mraise\u001b[39;00m \u001b[38;5;167;01mValueError\u001b[39;00m(\n\u001b[0;32m    481\u001b[0m         \u001b[38;5;124m\"\u001b[39m\u001b[38;5;124mEngine should not be specified when passing \u001b[39m\u001b[38;5;124m\"\u001b[39m\n\u001b[0;32m    482\u001b[0m         \u001b[38;5;124m\"\u001b[39m\u001b[38;5;124man ExcelFile - ExcelFile already has the engine set\u001b[39m\u001b[38;5;124m\"\u001b[39m\n\u001b[0;32m    483\u001b[0m     )\n",
      "File \u001b[1;32m~\\AppData\\Local\\Programs\\Python\\Python311\\Lib\\site-packages\\pandas\\io\\excel\\_base.py:1496\u001b[0m, in \u001b[0;36mExcelFile.__init__\u001b[1;34m(self, path_or_buffer, engine, storage_options)\u001b[0m\n\u001b[0;32m   1494\u001b[0m     ext \u001b[38;5;241m=\u001b[39m \u001b[38;5;124m\"\u001b[39m\u001b[38;5;124mxls\u001b[39m\u001b[38;5;124m\"\u001b[39m\n\u001b[0;32m   1495\u001b[0m \u001b[38;5;28;01melse\u001b[39;00m:\n\u001b[1;32m-> 1496\u001b[0m     ext \u001b[38;5;241m=\u001b[39m \u001b[43minspect_excel_format\u001b[49m\u001b[43m(\u001b[49m\n\u001b[0;32m   1497\u001b[0m \u001b[43m        \u001b[49m\u001b[43mcontent_or_path\u001b[49m\u001b[38;5;241;43m=\u001b[39;49m\u001b[43mpath_or_buffer\u001b[49m\u001b[43m,\u001b[49m\u001b[43m \u001b[49m\u001b[43mstorage_options\u001b[49m\u001b[38;5;241;43m=\u001b[39;49m\u001b[43mstorage_options\u001b[49m\n\u001b[0;32m   1498\u001b[0m \u001b[43m    \u001b[49m\u001b[43m)\u001b[49m\n\u001b[0;32m   1499\u001b[0m     \u001b[38;5;28;01mif\u001b[39;00m ext \u001b[38;5;129;01mis\u001b[39;00m \u001b[38;5;28;01mNone\u001b[39;00m:\n\u001b[0;32m   1500\u001b[0m         \u001b[38;5;28;01mraise\u001b[39;00m \u001b[38;5;167;01mValueError\u001b[39;00m(\n\u001b[0;32m   1501\u001b[0m             \u001b[38;5;124m\"\u001b[39m\u001b[38;5;124mExcel file format cannot be determined, you must specify \u001b[39m\u001b[38;5;124m\"\u001b[39m\n\u001b[0;32m   1502\u001b[0m             \u001b[38;5;124m\"\u001b[39m\u001b[38;5;124man engine manually.\u001b[39m\u001b[38;5;124m\"\u001b[39m\n\u001b[0;32m   1503\u001b[0m         )\n",
      "File \u001b[1;32m~\\AppData\\Local\\Programs\\Python\\Python311\\Lib\\site-packages\\pandas\\io\\excel\\_base.py:1371\u001b[0m, in \u001b[0;36minspect_excel_format\u001b[1;34m(content_or_path, storage_options)\u001b[0m\n\u001b[0;32m   1368\u001b[0m \u001b[38;5;28;01mif\u001b[39;00m \u001b[38;5;28misinstance\u001b[39m(content_or_path, \u001b[38;5;28mbytes\u001b[39m):\n\u001b[0;32m   1369\u001b[0m     content_or_path \u001b[38;5;241m=\u001b[39m BytesIO(content_or_path)\n\u001b[1;32m-> 1371\u001b[0m \u001b[38;5;28;01mwith\u001b[39;00m \u001b[43mget_handle\u001b[49m\u001b[43m(\u001b[49m\n\u001b[0;32m   1372\u001b[0m \u001b[43m    \u001b[49m\u001b[43mcontent_or_path\u001b[49m\u001b[43m,\u001b[49m\u001b[43m \u001b[49m\u001b[38;5;124;43m\"\u001b[39;49m\u001b[38;5;124;43mrb\u001b[39;49m\u001b[38;5;124;43m\"\u001b[39;49m\u001b[43m,\u001b[49m\u001b[43m \u001b[49m\u001b[43mstorage_options\u001b[49m\u001b[38;5;241;43m=\u001b[39;49m\u001b[43mstorage_options\u001b[49m\u001b[43m,\u001b[49m\u001b[43m \u001b[49m\u001b[43mis_text\u001b[49m\u001b[38;5;241;43m=\u001b[39;49m\u001b[38;5;28;43;01mFalse\u001b[39;49;00m\n\u001b[0;32m   1373\u001b[0m \u001b[43m\u001b[49m\u001b[43m)\u001b[49m \u001b[38;5;28;01mas\u001b[39;00m handle:\n\u001b[0;32m   1374\u001b[0m     stream \u001b[38;5;241m=\u001b[39m handle\u001b[38;5;241m.\u001b[39mhandle\n\u001b[0;32m   1375\u001b[0m     stream\u001b[38;5;241m.\u001b[39mseek(\u001b[38;5;241m0\u001b[39m)\n",
      "File \u001b[1;32m~\\AppData\\Local\\Programs\\Python\\Python311\\Lib\\site-packages\\pandas\\io\\common.py:868\u001b[0m, in \u001b[0;36mget_handle\u001b[1;34m(path_or_buf, mode, encoding, compression, memory_map, is_text, errors, storage_options)\u001b[0m\n\u001b[0;32m    859\u001b[0m         handle \u001b[38;5;241m=\u001b[39m \u001b[38;5;28mopen\u001b[39m(\n\u001b[0;32m    860\u001b[0m             handle,\n\u001b[0;32m    861\u001b[0m             ioargs\u001b[38;5;241m.\u001b[39mmode,\n\u001b[1;32m   (...)\u001b[0m\n\u001b[0;32m    864\u001b[0m             newline\u001b[38;5;241m=\u001b[39m\u001b[38;5;124m\"\u001b[39m\u001b[38;5;124m\"\u001b[39m,\n\u001b[0;32m    865\u001b[0m         )\n\u001b[0;32m    866\u001b[0m     \u001b[38;5;28;01melse\u001b[39;00m:\n\u001b[0;32m    867\u001b[0m         \u001b[38;5;66;03m# Binary mode\u001b[39;00m\n\u001b[1;32m--> 868\u001b[0m         handle \u001b[38;5;241m=\u001b[39m \u001b[38;5;28;43mopen\u001b[39;49m\u001b[43m(\u001b[49m\u001b[43mhandle\u001b[49m\u001b[43m,\u001b[49m\u001b[43m \u001b[49m\u001b[43mioargs\u001b[49m\u001b[38;5;241;43m.\u001b[39;49m\u001b[43mmode\u001b[49m\u001b[43m)\u001b[49m\n\u001b[0;32m    869\u001b[0m     handles\u001b[38;5;241m.\u001b[39mappend(handle)\n\u001b[0;32m    871\u001b[0m \u001b[38;5;66;03m# Convert BytesIO or file objects passed with an encoding\u001b[39;00m\n",
      "\u001b[1;31mFileNotFoundError\u001b[0m: [Errno 2] No such file or directory: 'Resources/crowdfunding.xlsx'"
     ]
    }
   ],
   "source": [
    "# Read the data into a Pandas DataFrame\n",
    "crowdfunding_info_df = pd.read_excel('Resources/crowdfunding.xlsx')\n",
    "crowdfunding_info_df.head()"
   ]
  },
  {
   "cell_type": "code",
   "execution_count": null,
   "id": "44331965",
   "metadata": {},
   "outputs": [],
   "source": [
    "# Get a brief summary of the crowdfunding_info DataFrame.\n",
    "crowdfunding_info_df.info()"
   ]
  },
  {
   "cell_type": "markdown",
   "id": "ad0ed337",
   "metadata": {},
   "source": [
    "# Create the Category and Subcategory DataFrames\n",
    "Create a Category DataFrame that has the following columns:\n",
    "\n",
    "*A \"category_id\" column that is numbered sequential form 1 to the length of the number of unique categories.\n",
    "\n",
    "*A \"category\" column that has only the categories.\n",
    "Export the DataFrame as a category.csv CSV file.\n",
    "\n",
    "Create a SubCategory DataFrame that has the following columns:\n",
    "\n",
    "*A \"subcategory_id\" column that is numbered sequential form 1 to the length of the number of unique subcategories.\n",
    "\n",
    "*A \"subcategory\" column that has only the subcategories.\n",
    "Export the DataFrame as a subcategory.csv CSV file."
   ]
  },
  {
   "cell_type": "code",
   "execution_count": null,
   "id": "c5586d30",
   "metadata": {},
   "outputs": [],
   "source": [
    "# Get the crowdfunding_info_df columns.\n",
    "crowdfunding_info_df.columns"
   ]
  },
  {
   "cell_type": "code",
   "execution_count": null,
   "id": "5df5f414",
   "metadata": {},
   "outputs": [],
   "source": [
    "# Assign the category and subcategory values to category and subcategory columns.\n",
    "crowdfunding_info_df[[\"category\",\"subcategory\"]] = crowdfunding_info_df[\"category & sub-category\"].str.split('/', n=1, expand=True)\n",
    "crowdfunding_info_df.head()"
   ]
  },
  {
   "cell_type": "code",
   "execution_count": null,
   "id": "349cd248",
   "metadata": {},
   "outputs": [],
   "source": [
    "# Get the unique categories and subcategories in separate lists.\n",
    "crowdfunding_info_df[\"category & sub-category\"].unique()\n",
    "categories = crowdfunding_info_df[\"category\"].unique()\n",
    "print(categories)"
   ]
  },
  {
   "cell_type": "code",
   "execution_count": null,
   "id": "6a04dc24",
   "metadata": {},
   "outputs": [],
   "source": [
    "subcategories = crowdfunding_info_df[\"subcategory\"].unique()\n",
    "print(subcategories)"
   ]
  },
  {
   "cell_type": "code",
   "execution_count": null,
   "id": "71d1dda1",
   "metadata": {},
   "outputs": [],
   "source": [
    "# Get the number of distinct values in the categories and subcategories lists.\n",
    "print(len(categories))\n",
    "print(len(subcategories))"
   ]
  },
  {
   "cell_type": "code",
   "execution_count": null,
   "id": "de535ac7",
   "metadata": {},
   "outputs": [],
   "source": [
    "contact_id_campaign = crowdfunding_info_df['contact_id'].unique()\n",
    "print(len(contact_id_campaign))\n",
    "\n",
    "cf_id=crowdfunding_info_df['cf_id'].unique()\n",
    "print(len(cf_id))"
   ]
  },
  {
   "cell_type": "code",
   "execution_count": null,
   "id": "7fb8eb57",
   "metadata": {},
   "outputs": [],
   "source": [
    "# Create numpy arrays from 1-9 for the categories and 1-24 for the subcategories.\n",
    "category_ids = np.arange(1, 10)\n",
    "subcategory_ids = np.arange(1, 25)\n",
    "\n",
    "print(category_ids)\n",
    "print(subcategory_ids)"
   ]
  },
  {
   "cell_type": "code",
   "execution_count": null,
   "id": "6a573d8e",
   "metadata": {},
   "outputs": [],
   "source": [
    "# Use a list comprehension to add \"cat\" to each category_id. \n",
    "cat_ids = [\"cat\" + str(cat_id) for cat_id in category_ids]\n",
    "scat_ids = [\"scat\" + str(scat_id) for scat_id in subcategory_ids]\n",
    "\n",
    "# Use a list comprehension to add \"subcat\" to each subcategory_id.    \n",
    "\n",
    "    \n",
    "print(cat_ids)\n",
    "print(scat_ids)"
   ]
  },
  {
   "cell_type": "code",
   "execution_count": null,
   "id": "22567110",
   "metadata": {},
   "outputs": [],
   "source": [
    "# Create a category DataFrame with the category_id array as the category_id and categories list as the category name.\n",
    "category_df = pd.DataFrame({'category_id': cat_ids, 'category': categories})\n",
    "# Create a category DataFrame with the subcategory_id array as the subcategory_id and subcategories list as the subcategory name. \n",
    "subcategory_df = pd.DataFrame({'subcategory_id': scat_ids, \"subcategory\": subcategories})  "
   ]
  },
  {
   "cell_type": "code",
   "execution_count": null,
   "id": "6b72b8b2",
   "metadata": {},
   "outputs": [],
   "source": [
    "category_df"
   ]
  },
  {
   "cell_type": "code",
   "execution_count": null,
   "id": "2b567290",
   "metadata": {},
   "outputs": [],
   "source": [
    "subcategory_df"
   ]
  },
  {
   "cell_type": "code",
   "execution_count": null,
   "id": "8b3dbb64",
   "metadata": {},
   "outputs": [],
   "source": [
    "# Export categories_df and subcategories_df as CSV files.\n",
    "category_df.to_csv(\"Resources/category.csv\", index=False)\n",
    "\n",
    "subcategory_df.to_csv(\"Resources/subcategory.csv\", index=False)"
   ]
  },
  {
   "cell_type": "markdown",
   "id": "2f609363",
   "metadata": {},
   "source": [
    "# Campaign DataFrame"
   ]
  },
  {
   "cell_type": "markdown",
   "id": "10256a14",
   "metadata": {},
   "source": [
    "# Create a Campaign DataFrame that has the following columns:"
   ]
  },
  {
   "cell_type": "markdown",
   "id": "fd5cb881",
   "metadata": {},
   "source": [
    "*The \"cf_id\" column.\n",
    "*The \"contact_id\" column.\n",
    "*The “company_name” column.\n",
    "*The \"blurb\" column is renamed as \"description.\"\n",
    "*The \"goal\" column.\n",
    "*The \"goal\" column is converted to a float datatype.\n",
    "*The \"pledged\" column is converted to a float datatype.\n",
    "*The \"backers_count\" column.\n",
    "*The \"country\" column.\n",
    "*The \"currency\" column.\n",
    "*The \"launched_at\" column is renamed as \"launch_date\" and converted to a datetime format.\n",
    "*The \"deadline\" column is renamed as \"end_date\" and converted to a datetime format.\n",
    "*The \"category_id\" with the unique number matching the “category_id” from the category DataFrame.\n",
    "*The \"subcategory_id\" with the unique number matching the “subcategory_id” from the subcategory DataFrame.\n",
    "*And, create a column that contains the unique four-digit contact ID number from the contact.xlsx file.\n",
    "Then export the DataFrame as a campaign.csv CSV file."
   ]
  },
  {
   "cell_type": "code",
   "execution_count": null,
   "id": "af31133e",
   "metadata": {},
   "outputs": [],
   "source": [
    "# Create a copy of the crowdfunding_info_df DataFrame name campaign_df. \n",
    "campaign_df = crowdfunding_info_df.copy()\n",
    "campaign_df.head()"
   ]
  },
  {
   "cell_type": "code",
   "execution_count": null,
   "id": "355f1d2a",
   "metadata": {},
   "outputs": [],
   "source": [
    "campaign_df.columns.to_list()"
   ]
  },
  {
   "cell_type": "code",
   "execution_count": null,
   "id": "220668df",
   "metadata": {},
   "outputs": [],
   "source": [
    "# Rename the blurb, launched_at, and deadline columns.\n",
    "campaign_df = campaign_df.rename({'blurb': 'description', 'launched_at': 'launch_date','deadline': 'end_date'}, axis=1)\n",
    "campaign_df "
   ]
  },
  {
   "cell_type": "code",
   "execution_count": null,
   "id": "d55c944a",
   "metadata": {},
   "outputs": [],
   "source": [
    "campaign_df.columns"
   ]
  },
  {
   "cell_type": "code",
   "execution_count": null,
   "id": "dd74508c",
   "metadata": {},
   "outputs": [],
   "source": [
    "# Convert the goal and pledged columns to a `float` data type.\n",
    "campaign_df[\"goal\"]=pd.to_numeric(campaign_df[\"goal\"], downcast=\"float\")\n",
    "campaign_df[\"pledged\"]=pd.to_numeric(campaign_df[\"pledged\"], downcast=\"float\")\n",
    "campaign_df.head()"
   ]
  },
  {
   "cell_type": "code",
   "execution_count": null,
   "id": "5f39fca9",
   "metadata": {},
   "outputs": [],
   "source": [
    "campaign_df[[\"goal\", \"pledged\"]].astype(float)"
   ]
  },
  {
   "cell_type": "code",
   "execution_count": null,
   "id": "2ec01d2c",
   "metadata": {},
   "outputs": [],
   "source": [
    "campaign_df[\"goal\"].astype(float)"
   ]
  },
  {
   "cell_type": "code",
   "execution_count": null,
   "id": "0b1a5216",
   "metadata": {},
   "outputs": [],
   "source": [
    "campaign_df[\"pledged\"].astype(float)"
   ]
  },
  {
   "cell_type": "code",
   "execution_count": null,
   "id": "f23033ce",
   "metadata": {},
   "outputs": [],
   "source": [
    "# Check the datatypes\n",
    "campaign_df.info()"
   ]
  },
  {
   "cell_type": "code",
   "execution_count": null,
   "id": "65a4f4d7",
   "metadata": {},
   "outputs": [],
   "source": [
    "# Format the launched_date and end_date columns to datetime format\n",
    "from datetime import datetime as dt\n",
    "campaign_df['launch_date'] = pd.to_datetime(campaign_df['launch_date'], unit='s').dt.strftime('%Y-%m-%d')\n",
    "campaign_df['end_date'] = pd.to_datetime(campaign_df['end_date'], unit='s').dt.strftime('%Y-%m-%d') \n"
   ]
  },
  {
   "cell_type": "code",
   "execution_count": null,
   "id": "d2c7d8dd",
   "metadata": {},
   "outputs": [],
   "source": [
    "campaign_df.head()"
   ]
  },
  {
   "cell_type": "code",
   "execution_count": null,
   "id": "baeeaeec",
   "metadata": {},
   "outputs": [],
   "source": [
    "print(category_df.head())"
   ]
  },
  {
   "cell_type": "code",
   "execution_count": null,
   "id": "0705db6a",
   "metadata": {},
   "outputs": [],
   "source": [
    "print(subcategory_df.head())"
   ]
  },
  {
   "cell_type": "code",
   "execution_count": null,
   "id": "f7bdf8f0",
   "metadata": {},
   "outputs": [],
   "source": [
    "# Merge the campaign_df with the category_df on the \"category\" column and \n",
    "# the subcategory_df on the \"subcategory\" column.\n",
    "campaign_category_merged = pd.merge(left=campaign_df, right=category_df, on='category')\n",
    "\n",
    "# Merge the merged DataFrame with the subcategory_df on the \"subcategory\" column\n",
    "campaign_merged_df = pd.merge(left=campaign_category_merged, right=subcategory_df, on='subcategory')\n",
    "campaign_merged_df.tail(10)"
   ]
  },
  {
   "cell_type": "code",
   "execution_count": null,
   "id": "a49415be",
   "metadata": {},
   "outputs": [],
   "source": [
    "# Drop unwanted columns\n",
    "columns_to_drop = ['staff_pick', 'spotlight', 'category & sub-category', 'category', 'subcategory']\n",
    "campaign_cleaned = campaign_merged_df.drop(columns_to_drop, axis=1)\n",
    "\n",
    "campaign_cleaned"
   ]
  },
  {
   "cell_type": "code",
   "execution_count": null,
   "id": "c29565a5",
   "metadata": {},
   "outputs": [],
   "source": [
    "# Export the DataFrame as a CSV file. \n",
    "campaign_cleaned.to_csv(\"Resources/campaign_cleaned.csv\", index=False)"
   ]
  },
  {
   "cell_type": "markdown",
   "id": "20ab518b",
   "metadata": {},
   "source": [
    "# Extract the contacts.xlsx Data."
   ]
  },
  {
   "cell_type": "code",
   "execution_count": null,
   "id": "46d8cc51",
   "metadata": {},
   "outputs": [],
   "source": [
    "# Read the data into a Pandas DataFrame. Use the `header=3` parameter when reading in the data.\n",
    "contact_info_df = pd.read_excel('Resources/contacts.xlsx', header=3)\n",
    "contact_info_df.head()"
   ]
  },
  {
   "cell_type": "markdown",
   "id": "6ffcb95a",
   "metadata": {},
   "source": [
    "# Create the Contacts DataFrame"
   ]
  },
  {
   "cell_type": "raw",
   "id": "d8e6c0d2",
   "metadata": {},
   "source": [
    "Create a Contacts DataFrame that has the following columns:"
   ]
  },
  {
   "cell_type": "raw",
   "id": "02502a65",
   "metadata": {},
   "source": [
    " * A column named \"contact_id\" that contains the unique number of the contact person.\n",
    " * A column named \"first_name\" that contains the first name of the contact person.\n",
    " * A column named \"last_name\" that contains the first name of the contact person.\n",
    " * A column named \"email\" that contains the email address of the contact person\n",
    "  Then export the DataFrame as a contacts.csv CSV file."
   ]
  },
  {
   "cell_type": "markdown",
   "id": "32e8bce8",
   "metadata": {},
   "source": [
    "# Option 1: Use Pandas to create the contacts DataFrame."
   ]
  },
  {
   "cell_type": "code",
   "execution_count": null,
   "id": "1b1955d5",
   "metadata": {},
   "outputs": [],
   "source": [
    "import json\n",
    "first_row = contact_info_df.iloc[0][0]\n",
    "# Convert the data to a Python dictionary. \n",
    "converted_data = json.loads(first_row)\n",
    "for k, v in converted_data.items():\n",
    "    print(k)\n",
    "    print(v)"
   ]
  },
  {
   "cell_type": "code",
   "execution_count": null,
   "id": "8b953dc0",
   "metadata": {},
   "outputs": [],
   "source": [
    "# Create a contact_info DataFrame and add each list of values, i.e., each row \n",
    "# to the 'contact_id', 'name', 'email' columns.\n",
    "dict_values = []\n",
    "dict_names = []\n",
    "for i, row in contact_info_df.iterrows():\n",
    "    data = row[0]\n",
    "    converted_data = json.loads(data)\n",
    "    columns = [k for k,v in converted_data.items()]\n",
    "    row_values = [v for k, v in converted_data.items()]\n",
    "    dict_names.append(columns)\n",
    "    dict_values.append(row_values)\n",
    "# Print out the list of values for each row.\n",
    "print(dict_names[0])\n",
    "print()\n",
    "print(dict_values)"
   ]
  },
  {
   "cell_type": "code",
   "execution_count": null,
   "id": "7cbec526",
   "metadata": {},
   "outputs": [],
   "source": [
    "new_contact_info_df = pd.DataFrame(dict_values, columns=dict_names[0])\n",
    "new_contact_info_df.head()"
   ]
  },
  {
   "cell_type": "code",
   "execution_count": null,
   "id": "ca208a46",
   "metadata": {},
   "outputs": [],
   "source": [
    "# Check the datatypes.\n",
    "new_contact_info_df.info()"
   ]
  },
  {
   "cell_type": "code",
   "execution_count": null,
   "id": "acb48911",
   "metadata": {},
   "outputs": [],
   "source": [
    "# Create a \"first\"name\" and \"last_name\" column with the first and last names from the \"name\" column. \n",
    "new_contact_info_df[['First Name','Last Name']] = new_contact_info_df.name.str.split(expand=True)\n",
    "new_contact_info_df\n",
    "\n",
    "# Drop the contact_name column\n",
    "clean_contact_df = new_contact_info_df.drop(['name'], axis = 1)\n",
    "clean_contact_df"
   ]
  },
  {
   "cell_type": "code",
   "execution_count": null,
   "id": "4be7ffb7",
   "metadata": {},
   "outputs": [],
   "source": [
    "# Reorder the columns\n",
    "contacts_df_clean= clean_contact_df.loc[:,['contact_id','First Name','Last Name','email']]\n",
    "contacts_df_clean"
   ]
  },
  {
   "cell_type": "code",
   "execution_count": null,
   "id": "2a83bf23",
   "metadata": {},
   "outputs": [],
   "source": [
    "# Check the datatypes one more time before exporting as CSV file.\n",
    "contacts_df_clean.info"
   ]
  },
  {
   "cell_type": "code",
   "execution_count": null,
   "id": "d81e9944",
   "metadata": {},
   "outputs": [],
   "source": [
    "contacts_df_clean.dtypes"
   ]
  },
  {
   "cell_type": "code",
   "execution_count": null,
   "id": "d8d4a7a2",
   "metadata": {},
   "outputs": [],
   "source": [
    "# Export the DataFrame as a CSV file. \n",
    "contacts_df_clean.to_csv(\"Resources/contacts.csv\", encoding ='utf8', index=False)"
   ]
  },
  {
   "cell_type": "code",
   "execution_count": null,
   "id": "437caba2",
   "metadata": {},
   "outputs": [],
   "source": []
  },
  {
   "cell_type": "code",
   "execution_count": null,
   "id": "f638b053",
   "metadata": {},
   "outputs": [],
   "source": []
  }
 ],
 "metadata": {
  "kernelspec": {
   "display_name": "Python 3 (ipykernel)",
   "language": "python",
   "name": "python3"
  },
  "language_info": {
   "codemirror_mode": {
    "name": "ipython",
    "version": 3
   },
   "file_extension": ".py",
   "mimetype": "text/x-python",
   "name": "python",
   "nbconvert_exporter": "python",
   "pygments_lexer": "ipython3",
   "version": "3.11.4"
  }
 },
 "nbformat": 4,
 "nbformat_minor": 5
}
